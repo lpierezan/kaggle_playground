{
 "cells": [
  {
   "cell_type": "markdown",
   "metadata": {
    "_uuid": "0d75fde616b6bd38514203c664ef7f923011158b"
   },
   "source": [
    "# MNIST - MLP and CNN with TF & Keras\n",
    "\n",
    "## Lucas Pierezan\n",
    "\n",
    "**Mar 2019**\n",
    "\n",
    "The objectives:\n",
    "\n",
    "- Build and train models: MLP and CNN.\n",
    "- Experiment with Keras APIs (Sequential and Functional).\n",
    "- Experiment with ImageDataGenerator to do data augmentation.\n",
    "- Experiment with tf.data to build input pipeline (with data augmentation)\n",
    "\n",
    "References:\n",
    "\n",
    "For building the CNN:  \n",
    "\n",
    "- https://medium.com/datadriveninvestor/five-powerful-cnn-architectures-b939c9ddd57b\n",
    "\n",
    "For building a pipeline with tf.data:  \n",
    "\n",
    "- https://www.tensorflow.org/guide/datasets\n",
    "- https://gist.github.com/datlife/abfe263803691a8864b7a2d4f87c4ab8\n",
    "- https://dominikschmidt.xyz/tensorflow-data-pipeline/\n",
    "- https://cs230-stanford.github.io/tensorflow-input-data.html"
   ]
  },
  {
   "cell_type": "code",
   "execution_count": 1,
   "metadata": {
    "_uuid": "e2e84f6fa38fc27a530c4d074093175ae11e41c2"
   },
   "outputs": [
    {
     "name": "stderr",
     "output_type": "stream",
     "text": [
      "C:\\Users\\bhq2\\AppData\\Local\\Continuum\\anaconda3\\lib\\site-packages\\h5py\\__init__.py:34: FutureWarning: Conversion of the second argument of issubdtype from `float` to `np.floating` is deprecated. In future, it will be treated as `np.float64 == np.dtype(float).type`.\n",
      "  from ._conv import register_converters as _register_converters\n"
     ]
    },
    {
     "name": "stdout",
     "output_type": "stream",
     "text": [
      "['sample_submission.csv', 'test.csv', 'train.csv']\n",
      "1.12.0\n",
      "2.1.6-tf\n"
     ]
    }
   ],
   "source": [
    "import tensorflow as tf\n",
    "import tensorflow.keras as keras\n",
    "from matplotlib import pyplot as plt\n",
    "import numpy as np\n",
    "import pandas as pd\n",
    "\n",
    "import os\n",
    "print(os.listdir(\"../input\"))\n",
    "\n",
    "\n",
    "print(tf.__version__)\n",
    "print(tf.keras.__version__)\n",
    "\n",
    "tf.keras.backend.set_image_data_format('channels_first')"
   ]
  },
  {
   "cell_type": "code",
   "execution_count": 2,
   "metadata": {
    "_uuid": "d6c390ab866d82201a12d6a9b271bfdcf53e21c2"
   },
   "outputs": [],
   "source": [
    "def plot_train_hist(hist : keras.callbacks.History, before_min_percent = 0.7):\n",
    "    \"\"\"\n",
    "    Plot loss/acc curves over training data.\n",
    "    \"\"\"\n",
    "    min_val_loss_epoch = hist.epoch[np.argmin(hist.history['val_loss'])]    \n",
    "    st_epoch = int((1-before_min_percent)*min_val_loss_epoch)\n",
    "    x_epoch = hist.epoch[st_epoch:]\n",
    "    \n",
    "    fig, ax = plt.subplots(figsize = (10,10))\n",
    "    ax.plot(x_epoch, hist.history['val_loss'][st_epoch:], label = 'val_loss')\n",
    "    ax.plot(x_epoch, hist.history['loss'][st_epoch:], label = 'train_loss')\n",
    "    ax.set_ylabel('loss')\n",
    "\n",
    "    ax2 = ax.twinx()\n",
    "    ax2.plot(x_epoch, hist.history['val_acc'][st_epoch:], label = 'val_acc', c = 'r')\n",
    "    ax2.plot(x_epoch, hist.history['acc'][st_epoch:], label = 'train_acc', c = 'g')\n",
    "    ax2.set_ylabel('acc')\n",
    "    \n",
    "    \n",
    "    ax.vlines(min_val_loss_epoch, *ax.get_ylim(), linestyles='dashed', label = 'min_val_loss')\n",
    "    \n",
    "    ax.legend(loc = 'upper left')\n",
    "    ax2.legend(loc = 'upper right')\n",
    "    \n",
    "    #plt.legend()\n",
    "    plt.show()"
   ]
  },
  {
   "cell_type": "markdown",
   "metadata": {
    "_uuid": "83dc3b834c31dbbf6d46860a01a3ec8db536ac65"
   },
   "source": [
    "# Loading the Data"
   ]
  },
  {
   "cell_type": "code",
   "execution_count": 3,
   "metadata": {
    "_uuid": "401f363a7a2f5026fcabc11318869a1c4cf20e9e"
   },
   "outputs": [
    {
     "data": {
      "text/plain": [
       "((42000, 28, 28), (42000,), (28000, 28, 28))"
      ]
     },
     "execution_count": 3,
     "metadata": {},
     "output_type": "execute_result"
    }
   ],
   "source": [
    "def load_data(train = True):\n",
    "    fp = '../input/train.csv' if train else '../input/test.csv'\n",
    "    df = pd.read_csv(fp)\n",
    "    \n",
    "    if train:\n",
    "        y_train = df['label'].values\n",
    "        df.drop('label',axis=1, inplace = True)\n",
    "        \n",
    "    x_train = df.values\n",
    "    n,l2 = x_train.shape\n",
    "    l = int(l2**0.5)\n",
    "    x_train = x_train.reshape((n, l, l)).astype(float)\n",
    "    \n",
    "    if train:\n",
    "        return x_train, y_train\n",
    "    else:\n",
    "        return x_train\n",
    "\n",
    "\n",
    "x, y = load_data()\n",
    "x_test = load_data(train=False)\n",
    "\n",
    "x.shape, y.shape, x_test.shape"
   ]
  },
  {
   "cell_type": "code",
   "execution_count": 4,
   "metadata": {
    "_uuid": "8d9227fae90e099f94d1d58422d4b6dd223cb2f5"
   },
   "outputs": [
    {
     "name": "stdout",
     "output_type": "stream",
     "text": [
      "label 0\n",
      "min: 0.0 max: 255.0\n"
     ]
    },
    {
     "data": {
      "image/png": "[encoded data removed]",
      "text/plain": [
       "<Figure size 432x288 with 1 Axes>"
      ]
     },
     "metadata": {
      "needs_background": "light"
     },
     "output_type": "display_data"
    }
   ],
   "source": [
    "np.random.seed(42)\n",
    "\n",
    "i = np.random.randint(0,len(x))\n",
    "plt.imshow(x[i], cmap='gray', interpolation='none')\n",
    "print('label', y[i])\n",
    "print('min:', x.min(), 'max:',  x.max())"
   ]
  },
  {
   "cell_type": "markdown",
   "metadata": {
    "_uuid": "05a09148d650c24afd7fe2102770f78f7d046939"
   },
   "source": [
    "### Creating Validation Set"
   ]
  },
  {
   "cell_type": "code",
   "execution_count": 5,
   "metadata": {
    "_uuid": "7fca9c00de8f046ea51cb8b1b9969c05e02d1f2b"
   },
   "outputs": [
    {
     "data": {
      "text/plain": [
       "((33600, 28, 28), (33600,), (8400, 28, 28), (8400,))"
      ]
     },
     "execution_count": 5,
     "metadata": {},
     "output_type": "execute_result"
    }
   ],
   "source": [
    "from sklearn.model_selection import train_test_split\n",
    "\n",
    "x_train, x_val, y_train, y_val = train_test_split(x, y, test_size = 0.2, random_state = 42, shuffle = True)\n",
    "x_train.shape, y_train.shape, x_val.shape, y_val.shape"
   ]
  },
  {
   "cell_type": "code",
   "execution_count": 6,
   "metadata": {
    "_uuid": "56f0b8f852d50ee98cd03d02a6d9434b3fb799d9"
   },
   "outputs": [
    {
     "data": {
      "text/plain": [
       "3    937\n",
       "1    909\n",
       "7    893\n",
       "2    846\n",
       "4    839\n",
       "9    838\n",
       "8    835\n",
       "0    816\n",
       "6    785\n",
       "5    702\n",
       "dtype: int64"
      ]
     },
     "execution_count": 6,
     "metadata": {},
     "output_type": "execute_result"
    }
   ],
   "source": [
    "# are all classes represented?\n",
    "pd.Series(y_val).value_counts()"
   ]
  },
  {
   "cell_type": "markdown",
   "metadata": {
    "_uuid": "a366ddd86896b6d5d092b716f9f32e937e484367"
   },
   "source": [
    "### Add Channels dimension"
   ]
  },
  {
   "cell_type": "code",
   "execution_count": 7,
   "metadata": {
    "_uuid": "4f3b6cc11109e6a9cb6b37dc6fb57a874cb30649"
   },
   "outputs": [
    {
     "data": {
      "text/plain": [
       "((33600, 1, 28, 28), (8400, 1, 28, 28))"
      ]
     },
     "execution_count": 7,
     "metadata": {},
     "output_type": "execute_result"
    }
   ],
   "source": [
    "# Expanding x_train, x_test to have a channels dimension (and to be channels first)\n",
    "\n",
    "x_train_k = np.expand_dims(x_train, axis = 1)\n",
    "x_val_k = np.expand_dims(x_val, axis = 1)\n",
    "\n",
    "x_train_k.shape, x_val_k.shape"
   ]
  },
  {
   "cell_type": "code",
   "execution_count": 8,
   "metadata": {
    "_uuid": "b63667a0fe90d6a9a423e575c6deb51565c95154"
   },
   "outputs": [
    {
     "data": {
      "text/plain": [
       "((33600, 10), (8400, 10))"
      ]
     },
     "execution_count": 8,
     "metadata": {},
     "output_type": "execute_result"
    }
   ],
   "source": [
    "num_classes = 10\n",
    "y_train_k = keras.utils.to_categorical(y_train, num_classes)\n",
    "y_val_k = keras.utils.to_categorical(y_val, num_classes)\n",
    "y_train_k.shape, y_val_k.shape"
   ]
  },
  {
   "cell_type": "markdown",
   "metadata": {
    "_uuid": "26a15e4a5b511ceb409b2008d1ae845dbd29e399"
   },
   "source": [
    "# Keras ImageDataGenerator\n",
    "\n",
    "Let´s use ImageDataGenerator to create a input pipelines with:\n",
    "\n",
    "- Spliting data to validation\n",
    "- Rescaling pixel by a constant value.\n",
    "- Control batch size\n",
    "\n",
    "These generators loop over their data indefinitely."
   ]
  },
  {
   "cell_type": "code",
   "execution_count": 9,
   "metadata": {
    "_uuid": "0de603a3eeeaa141b64ebbfee75aeed3cb407f25"
   },
   "outputs": [],
   "source": [
    "from tensorflow.keras.preprocessing.image import ImageDataGenerator\n",
    "\n",
    "img_gen_train = ImageDataGenerator(rescale=1/255., rotation_range = 12, width_shift_range=0.08, height_shift_range=0.08, zoom_range=0.08)\n",
    "img_gen_val = ImageDataGenerator(rescale=1/255.)\n",
    "\n",
    "\n",
    "img_gen_train.fit(x_train_k, seed=42)\n",
    "img_gen_val.fit(x_train_k, seed=42)\n"
   ]
  },
  {
   "cell_type": "markdown",
   "metadata": {
    "_uuid": "666829f970311b78d7e73747e6f604f61d1ec2b7"
   },
   "source": [
    "**Testing the image data augmentation**"
   ]
  },
  {
   "cell_type": "code",
   "execution_count": 10,
   "metadata": {
    "_uuid": "623985df905d6d8aaa5369824dfc9ccb0fa14232"
   },
   "outputs": [
    {
     "data": {
      "image/png": "[encoded data removed]",
      "text/plain": [
       "<Figure size 180x180 with 1 Axes>"
      ]
     },
     "metadata": {
      "needs_background": "light"
     },
     "output_type": "display_data"
    },
    {
     "data": {
      "image/png": "[encoded data removed]",
      "text/plain": [
       "<Figure size 1440x540 with 24 Axes>"
      ]
     },
     "metadata": {
      "needs_background": "light"
     },
     "output_type": "display_data"
    }
   ],
   "source": [
    "idx_example = np.random.randint(0,len(x_train_k))\n",
    "fig, ax = plt.subplots(figsize = (2.5,2.5))\n",
    "plt.imshow(x_train_k[idx_example][0], cmap='gray', interpolation='none')\n",
    "plt.show()\n",
    "\n",
    "n_row, n_col = 3, 8\n",
    "fig, axs = plt.subplots(n_row, n_col, figsize = (2.5*n_col,2.5*n_row))\n",
    "i = 0\n",
    "for z in img_gen_train.flow(x_train_k[[idx_example]], batch_size=1):\n",
    "    i += 1\n",
    "    if i > n_row*n_col:\n",
    "        break\n",
    "    row, col = (i-1)//n_col, (i-1)%n_col    \n",
    "    axs[row,col].imshow(z[0,0], cmap='gray', interpolation='none')\n",
    "    \n",
    "plt.show()"
   ]
  },
  {
   "cell_type": "markdown",
   "metadata": {
    "_uuid": "42d37700934cad0ec0f31a407f1ed24bac25ab40"
   },
   "source": [
    "# MLP Model\n",
    "\n",
    "Let´s fix an architeture that is composed by dense hidden layers with dropout beetween then and before the output layer.\n",
    "\n",
    "Input -> Dense -> Dropout -> Dense -> Dropout -> Dense -> ... -> Dropout -> Output"
   ]
  },
  {
   "cell_type": "code",
   "execution_count": 11,
   "metadata": {
    "_uuid": "712b3ab4e78fce775516b0b5fba83b03793d8e15"
   },
   "outputs": [],
   "source": [
    "def create_mlp_model(dense_sizes = [100,100], dropouts = [0.5, 0.5]):\n",
    "    mlp_model = keras.Sequential()\n",
    "    mlp_model.add(keras.layers.Flatten(input_shape = (1,28,28)))\n",
    "    \n",
    "    for n,p in zip(dense_sizes, dropouts):\n",
    "        mlp_model.add(keras.layers.Dense(n, activation='relu'))\n",
    "        mlp_model.add(keras.layers.Dropout(p))\n",
    "    \n",
    "    mlp_model.add(keras.layers.Dense(num_classes, activation='softmax'))\n",
    "    \n",
    "    mlp_model.summary()\n",
    "    \n",
    "    return mlp_model"
   ]
  },
  {
   "cell_type": "markdown",
   "metadata": {
    "_uuid": "6698e194d1f40fedd961932dee2e26c923e41654"
   },
   "source": [
    "### Training\n",
    "\n",
    "**Optimizer:**\n",
    "- Using the AdamOptimizer\n",
    "\n",
    "**Loss:**\n",
    "- Classical categorical cross entropy.\n",
    "\n",
    "**Model Checkpoint:**\n",
    "\n",
    "- Saving the models weight, after every epoch, if val_loss has improved.\n",
    "    \n",
    "**EarlyStopping:**\n",
    "\n",
    "- Stopping training when val_loss hasn´t increased for 32 epochs.\n",
    "\n",
    "**Tensor Board:**\n",
    "\n",
    "- We experimented with Tensor Board, but it crashes training in a conflict with checkpoint files. It is possibly \n",
    "https://github.com/tensorflow/tensorflow/issues/21135 or https://github.com/tensorflow/tensorboard/issues/892\n"
   ]
  },
  {
   "cell_type": "code",
   "execution_count": 12,
   "metadata": {
    "_uuid": "1b856d6007a2beec1ed497426a217910ce9ae1a3"
   },
   "outputs": [],
   "source": [
    "def create_callbacks(model_name, patience, lr_reduction_params = None):\n",
    "    callbacks = []\n",
    "    \n",
    "    # Model Checkpoint\n",
    "    ckpt_path = './{model_name}_model/{model_name}_weights.ckpt'.format(model_name = model_name)\n",
    "    os.makedirs(os.path.dirname(ckpt_path), exist_ok=True)\n",
    "    model_ckpt = keras.callbacks.ModelCheckpoint(ckpt_path, monitor='val_loss', verbose=1, save_best_only = True, save_weights_only = True, period=1)\n",
    "    callbacks.append(model_ckpt)\n",
    "    \n",
    "    # Early Stopping\n",
    "    early_stopping_cb = keras.callbacks.EarlyStopping(monitor='val_loss', min_delta=0, patience=patience, verbose=1, mode='auto', baseline=None)\n",
    "    callbacks.append(early_stopping_cb)\n",
    "    \n",
    "    # TensorBoard\n",
    "    #tensor_board_folder = './{model_name}_model/tensor_board_log/'.format(model_name = model_name)\n",
    "    #os.makedirs(tensor_board_folder, exist_ok=True)\n",
    "    #tensor_board_cb = keras.callbacks.TensorBoard(tensor_board_folder, histogram_freq=5, write_grads=True, write_images=True)\n",
    "    \n",
    "    #\n",
    "    if lr_reduction_params is not None:\n",
    "        lr_reduction = keras.callbacks.ReduceLROnPlateau(monitor='val_loss', verbose=1, **lr_reduction_params)\n",
    "        \n",
    "        callbacks.append(lr_reduction)\n",
    "    \n",
    "\n",
    "    return callbacks, ckpt_path"
   ]
  },
  {
   "cell_type": "code",
   "execution_count": 13,
   "metadata": {
    "_uuid": "889191382acd02e0774c0cea57a923c7c776872d"
   },
   "outputs": [
    {
     "name": "stdout",
     "output_type": "stream",
     "text": [
      "_________________________________________________________________\n",
      "Layer (type)                 Output Shape              Param #   \n",
      "=================================================================\n",
      "flatten (Flatten)            (None, 784)               0         \n",
      "_________________________________________________________________\n",
      "dense (Dense)                (None, 256)               200960    \n",
      "_________________________________________________________________\n",
      "dropout (Dropout)            (None, 256)               0         \n",
      "_________________________________________________________________\n",
      "dense_1 (Dense)              (None, 128)               32896     \n",
      "_________________________________________________________________\n",
      "dropout_1 (Dropout)          (None, 128)               0         \n",
      "_________________________________________________________________\n",
      "dense_2 (Dense)              (None, 10)                1290      \n",
      "=================================================================\n",
      "Total params: 235,146\n",
      "Trainable params: 235,146\n",
      "Non-trainable params: 0\n",
      "_________________________________________________________________\n",
      "Epoch 1/4\n",
      "\n",
      "Epoch 00001: val_loss improved from inf to 0.21143, saving model to ./mlp_model/mlp_weights.ckpt\n",
      " - 13s - loss: 0.8307 - acc: 0.7365 - val_loss: 0.2114 - val_acc: 0.9394\n",
      "Epoch 2/4\n",
      "\n",
      "Epoch 00002: val_loss improved from 0.21143 to 0.14608, saving model to ./mlp_model/mlp_weights.ckpt\n",
      " - 9s - loss: 0.3741 - acc: 0.8852 - val_loss: 0.1461 - val_acc: 0.9543\n",
      "Epoch 3/4\n",
      "\n",
      "Epoch 00003: val_loss improved from 0.14608 to 0.12758, saving model to ./mlp_model/mlp_weights.ckpt\n",
      " - 10s - loss: 0.2878 - acc: 0.9116 - val_loss: 0.1276 - val_acc: 0.9607\n",
      "Epoch 4/4\n",
      "\n",
      "Epoch 00004: val_loss improved from 0.12758 to 0.10755, saving model to ./mlp_model/mlp_weights.ckpt\n",
      " - 10s - loss: 0.2523 - acc: 0.9238 - val_loss: 0.1075 - val_acc: 0.9677\n"
     ]
    },
    {
     "data": {
      "image/png": "[encoded data removed]",
      "text/plain": [
       "<Figure size 720x720 with 2 Axes>"
      ]
     },
     "metadata": {
      "needs_background": "light"
     },
     "output_type": "display_data"
    },
    {
     "name": "stdout",
     "output_type": "stream",
     "text": [
      "Wall time: 42.7 s\n"
     ]
    }
   ],
   "source": [
    "%%time\n",
    "\n",
    "# == HYPERPARAMETERS\n",
    "dense_sizes = [256, 128]\n",
    "dropouts = [0.25, 0.25]\n",
    "learning_rate = 0.001\n",
    "batch_size = 128\n",
    "n_epoch = 4 # 128\n",
    "patience = 32\n",
    "\n",
    "# == CREATING MODEL\n",
    "mlp_model = create_mlp_model(dense_sizes, dropouts)\n",
    "\n",
    "# == OPTIMIZER, LOSS AND COMPILATION\n",
    "adam_opt = tf.train.AdamOptimizer(learning_rate = learning_rate, beta1=0.9, beta2=0.999)\n",
    "my_loss = keras.losses.categorical_crossentropy\n",
    "mlp_model.compile(adam_opt, my_loss, metrics=['accuracy'])\n",
    "\n",
    "# == CALLBACKS\n",
    "mlp_callbacks, ckpt_path = create_callbacks('mlp', patience=patience)\n",
    "\n",
    "# == INPUT GENERATORS\n",
    "\n",
    "# generators that loops forever\n",
    "train_generator = img_gen_train.flow(x_train_k, y_train_k, batch_size = batch_size, seed=42, shuffle=True)\n",
    "val_generator = img_gen_val.flow(x_val_k, y_val_k, batch_size = len(x_val_k), shuffle=False)\n",
    "\n",
    "# == FIT\n",
    "\n",
    "hist = mlp_model.fit_generator(train_generator, steps_per_epoch=None, epochs=n_epoch, verbose=2, \n",
    "                        callbacks= mlp_callbacks, validation_data = val_generator)\n",
    "\n",
    "# == LOSS CURVE\n",
    "plot_train_hist(hist)"
   ]
  },
  {
   "cell_type": "markdown",
   "metadata": {
    "_uuid": "403a47e71c2a2c323fe72923e34dd7725f1006a6"
   },
   "source": [
    "### Predict\n",
    "\n",
    "Let´s restore best model weights and make a prediction on test data\n",
    "\n"
   ]
  },
  {
   "cell_type": "code",
   "execution_count": 14,
   "metadata": {
    "_uuid": "5b9ec391614eb48ab5f4723b5d1eaf1d667856dc"
   },
   "outputs": [],
   "source": [
    "def predict_test(model, x_test, img_gen, n_augment = 1):\n",
    "    # channels dim\n",
    "    x_test_k = np.expand_dims(x_test, axis = 1)\n",
    "    \n",
    "    # use the trained image generator pipeline (it should not do data augmentation)\n",
    "    test_generator = img_gen.flow(x_test_k, batch_size= len(x_test_k), shuffle=False)\n",
    "    \n",
    "    y_test = None\n",
    "    i = 0\n",
    "    for x_test_prep in test_generator:\n",
    "        if y_test is None:\n",
    "            y_test = model.predict(x_test_prep)\n",
    "        else:\n",
    "            y_test += model.predict(x_test_prep)\n",
    "\n",
    "        i += 1\n",
    "        if i >= n_augment:\n",
    "            break\n",
    "    \n",
    "    y_test_label = y_test.argmax(axis = 1)\n",
    "    y_test = y_test/y_test.sum(axis = 1, keepdims=True)\n",
    "    \n",
    "    return y_test, y_test_label\n",
    "\n",
    "def validation_metrics(model, x_val, y_val, img_gen_val, n_augment = 1):\n",
    "    \n",
    "    y_pred, y_pred_label = predict_test(model, x_val, img_gen_val, n_augment)\n",
    "    y_val_k = keras.utils.to_categorical(y_val, num_classes)\n",
    "    \n",
    "    loss = keras.metrics.categorical_crossentropy(y_val_k, y_pred)\n",
    "    loss = keras.backend.eval(loss).mean()\n",
    "    \n",
    "    acc = keras.metrics.categorical_accuracy(y_val_k, y_pred)\n",
    "    acc = keras.backend.eval(acc).mean()\n",
    "    \n",
    "    print('val loss:', loss, ' val acc:', acc)\n",
    "    "
   ]
  },
  {
   "cell_type": "code",
   "execution_count": 15,
   "metadata": {
    "_uuid": "3cc6be19d8ac6f703c424a246b56fde3421f92dd"
   },
   "outputs": [
    {
     "name": "stdout",
     "output_type": "stream",
     "text": [
      "val loss: 0.107545465  val acc: 0.9677381\n"
     ]
    },
    {
     "data": {
      "text/plain": [
       "((28000, 10), (28000,))"
      ]
     },
     "execution_count": 15,
     "metadata": {},
     "output_type": "execute_result"
    }
   ],
   "source": [
    "# loading best weights\n",
    "mlp_model.load_weights(ckpt_path)\n",
    "\n",
    "# print validation metrics evaluation\n",
    "validation_metrics(mlp_model, x_val, y_val, img_gen_val)\n",
    "\n",
    "# test set prediction\n",
    "y_test, y_test_label = predict_test(mlp_model, x_test, img_gen_train, n_augment=2)\n",
    "\n",
    "y_test.shape, y_test_label.shape"
   ]
  },
  {
   "cell_type": "code",
   "execution_count": 16,
   "metadata": {
    "_uuid": "f116a99e07d0f2a331a116b20b7e0e97383dbf0f"
   },
   "outputs": [
    {
     "data": {
      "text/plain": [
       "(<matplotlib.image.AxesImage at 0x151e0e10>, 9)"
      ]
     },
     "execution_count": 16,
     "metadata": {},
     "output_type": "execute_result"
    },
    {
     "data": {
      "image/png": "[encoded data removed]",
      "text/plain": [
       "<Figure size 432x288 with 1 Axes>"
      ]
     },
     "metadata": {
      "needs_background": "light"
     },
     "output_type": "display_data"
    }
   ],
   "source": [
    "i = np.random.randint(0, len(x_test))\n",
    "plt.imshow(x_test[i]), y_test_label[i]"
   ]
  },
  {
   "cell_type": "markdown",
   "metadata": {
    "_uuid": "727eacade7c2642605ed28e10afcd1a27c138c8d"
   },
   "source": [
    "### Creating Submission"
   ]
  },
  {
   "cell_type": "code",
   "execution_count": 17,
   "metadata": {
    "_uuid": "37edb55ee0611aa7318dcea512c77eda2996df50"
   },
   "outputs": [],
   "source": [
    "def create_submission(y_test_label, model_name = 'model'):\n",
    "    filepath = './' + model_name + '.csv'\n",
    "    df = pd.DataFrame(data = {'ImageId' : range(1, len(y_test) + 1), 'Label' : y_test_label})    \n",
    "    df.to_csv(filepath, index = False)\n",
    "    print('Submission saved in', filepath)"
   ]
  },
  {
   "cell_type": "code",
   "execution_count": 18,
   "metadata": {
    "_uuid": "1cff82901bfc33f34a5ba67e690063860829ec8a"
   },
   "outputs": [
    {
     "name": "stdout",
     "output_type": "stream",
     "text": [
      "Submission saved in ./mlp.csv\n"
     ]
    }
   ],
   "source": [
    "create_submission(y_test_label, 'mlp')"
   ]
  },
  {
   "cell_type": "markdown",
   "metadata": {
    "_uuid": "89c1c9437ce39ae2a7fafe240471702cd293fa78"
   },
   "source": [
    "The first submission, with \n",
    "\n",
    "- dense_sizes = [100,100]\n",
    "- dropouts = [0.5, 0.5]\n",
    "- learning_rate = 0.001\n",
    "- batch_size = 32\n",
    "- validation metrics: [0.11049949377775192, 0.9695237874984741]\n",
    "\n",
    "scored 0.9670 in LB.\n",
    "\n",
    "\n",
    "The second submission, with\n",
    "\n",
    "- **ImageDataGenerator(rescale=1/255., rotation_range = 12, width_shift_range=0.08, height_shift_range=0.08, zoom_range=0.08)**\n",
    "- dense_sizes = [150,100]\n",
    "- dropouts = [0.2, 0.2]\n",
    "- learning_rate = 0.001\n",
    "- batch_size = 64\n",
    "- validation metrics: [0.049472346901893616, 0.9845238327980042]\n",
    "\n",
    "scored 0.98657 in LB.\n"
   ]
  },
  {
   "cell_type": "markdown",
   "metadata": {
    "_uuid": "862e414cf80ee687cbde5f12f41ca194886ae824"
   },
   "source": [
    "# CNN Model"
   ]
  },
  {
   "cell_type": "code",
   "execution_count": 19,
   "metadata": {
    "_uuid": "2aed5245878685ca75eb2edb2eb561bd53100099"
   },
   "outputs": [],
   "source": [
    "def create_cnn_model(num_classes = 10, activation = 'relu'):\n",
    "    \n",
    "    inputs = keras.Input(shape=(1,28,28))\n",
    "    x = inputs    \n",
    "    \n",
    "    # == inception-like block ==\n",
    "    i_1 = keras.layers.Conv2D(32, 1, activation=activation)(x)\n",
    "    i_1 = keras.layers.MaxPool2D()(i_1)\n",
    "    \n",
    "    i_3 = keras.layers.Conv2D(32, 3, padding='same', activation=activation)(x)\n",
    "    i_3 = keras.layers.MaxPool2D()(i_3)\n",
    "    \n",
    "    i_5 = keras.layers.Conv2D(32, 5, padding='same', activation=activation)(x)\n",
    "    i_5 = keras.layers.MaxPool2D()(i_5)\n",
    "    \n",
    "    i_avg = keras.layers.AveragePooling2D()(x)\n",
    "    \n",
    "    i_conc = keras.layers.concatenate([i_1, i_3, i_5, i_avg], axis = 1)\n",
    "    x = i_conc\n",
    "    # ==\n",
    "    \n",
    "    x = keras.layers.Conv2D(64, 5, strides = 1, padding='valid', activation=activation)(x)\n",
    "    x = keras.layers.MaxPool2D()(x)\n",
    "    \n",
    "    x = keras.layers.Conv2D(256, 3, strides = 1, padding='valid', activation=activation)(x)\n",
    "    x = keras.layers.GlobalAveragePooling2D()(x)\n",
    "    \n",
    "    x = keras.layers.Flatten()(x)\n",
    "    #x = keras.layers.Dense(64, activation=activation, kernel_regularizer=keras.regularizers.l1(0.0001))(x)    \n",
    "    x = keras.layers.Dropout(0.5)(x)\n",
    "    \n",
    "    outputs = keras.layers.Dense(num_classes, activation='softmax')(x)\n",
    "    \n",
    "    cnn_model = keras.Model(inputs = inputs, outputs = outputs)    \n",
    "    cnn_model.summary()\n",
    "    \n",
    "    return cnn_model"
   ]
  },
  {
   "cell_type": "code",
   "execution_count": 20,
   "metadata": {
    "_uuid": "6a51336cd3d6e3b7cbf829f5e043e54a129f369d"
   },
   "outputs": [],
   "source": [
    "def train_cnn(model_name = 'cnn', learning_rate = 1e-3, batch_size = 128, n_epoch = 32, patience= 16, activation = 'relu', \n",
    "              lr_reduction_params={'factor' : 0.5, 'patience' : 8, 'min_delta' : 0}, \n",
    "             train_generator = None, val_generator = None, train_ds = None, val_ds = None, steps_per_epoch = None):\n",
    "    \n",
    "    # == CREATING MODEL\n",
    "    cnn_model = create_cnn_model(activation=activation)\n",
    "\n",
    "    # == OPTIMIZER, LOSS AND COMPILATION\n",
    "    #adam_opt = tf.train.AdamOptimizer(learning_rate = learning_rate, beta1=0.9, beta2=0.999)\n",
    "    adam_opt = tf.keras.optimizers.Adam(lr = learning_rate, beta_1=0.9, beta_2=0.999)\n",
    "\n",
    "    my_loss = keras.losses.categorical_crossentropy\n",
    "    cnn_model.compile(adam_opt, my_loss, metrics=['accuracy'])\n",
    "\n",
    "    # == CALLBACKS\n",
    "    cnn_callbacks, cnn_ckpt_path = create_callbacks(model_name, patience=patience, lr_reduction_params=lr_reduction_params)\n",
    "\n",
    "    # == FIT\n",
    "    if train_generator is not None:\n",
    "        cnn_hist = cnn_model.fit_generator(train_generator, steps_per_epoch=None, epochs=n_epoch, verbose=2, \n",
    "                                           callbacks = cnn_callbacks, validation_data = val_generator)\n",
    "    elif train_ds is not None:\n",
    "        cnn_hist = cnn_model.fit(train_ds.make_one_shot_iterator(), steps_per_epoch=steps_per_epoch, epochs=n_epoch, \n",
    "                                 verbose=2, callbacks = cnn_callbacks, validation_data = val_ds.make_one_shot_iterator(), \n",
    "                                 validation_steps = 1)\n",
    "\n",
    "    # == LOSS CURVE\n",
    "    plot_train_hist(cnn_hist)\n",
    "    \n",
    "    return cnn_model, cnn_hist, cnn_ckpt_path"
   ]
  },
  {
   "cell_type": "code",
   "execution_count": 21,
   "metadata": {
    "_uuid": "587c994ac8a453ec1b618119b75826ec22a2a72c",
    "scrolled": false
   },
   "outputs": [
    {
     "name": "stdout",
     "output_type": "stream",
     "text": [
      "__________________________________________________________________________________________________\n",
      "Layer (type)                    Output Shape         Param #     Connected to                     \n",
      "==================================================================================================\n",
      "input_1 (InputLayer)            (None, 1, 28, 28)    0                                            \n",
      "__________________________________________________________________________________________________\n",
      "conv2d (Conv2D)                 (None, 32, 28, 28)   64          input_1[0][0]                    \n",
      "__________________________________________________________________________________________________\n",
      "conv2d_1 (Conv2D)               (None, 32, 28, 28)   320         input_1[0][0]                    \n",
      "__________________________________________________________________________________________________\n",
      "conv2d_2 (Conv2D)               (None, 32, 28, 28)   832         input_1[0][0]                    \n",
      "__________________________________________________________________________________________________\n",
      "max_pooling2d (MaxPooling2D)    (None, 32, 14, 14)   0           conv2d[0][0]                     \n",
      "__________________________________________________________________________________________________\n",
      "max_pooling2d_1 (MaxPooling2D)  (None, 32, 14, 14)   0           conv2d_1[0][0]                   \n",
      "__________________________________________________________________________________________________\n",
      "max_pooling2d_2 (MaxPooling2D)  (None, 32, 14, 14)   0           conv2d_2[0][0]                   \n",
      "__________________________________________________________________________________________________\n",
      "average_pooling2d (AveragePooli (None, 1, 14, 14)    0           input_1[0][0]                    \n",
      "__________________________________________________________________________________________________\n",
      "concatenate (Concatenate)       (None, 97, 14, 14)   0           max_pooling2d[0][0]              \n",
      "                                                                 max_pooling2d_1[0][0]            \n",
      "                                                                 max_pooling2d_2[0][0]            \n",
      "                                                                 average_pooling2d[0][0]          \n",
      "__________________________________________________________________________________________________\n",
      "conv2d_3 (Conv2D)               (None, 64, 10, 10)   155264      concatenate[0][0]                \n",
      "__________________________________________________________________________________________________\n",
      "max_pooling2d_3 (MaxPooling2D)  (None, 64, 5, 5)     0           conv2d_3[0][0]                   \n",
      "__________________________________________________________________________________________________\n",
      "conv2d_4 (Conv2D)               (None, 256, 3, 3)    147712      max_pooling2d_3[0][0]            \n",
      "__________________________________________________________________________________________________\n",
      "global_average_pooling2d (Globa (None, 256)          0           conv2d_4[0][0]                   \n",
      "__________________________________________________________________________________________________\n",
      "flatten_1 (Flatten)             (None, 256)          0           global_average_pooling2d[0][0]   \n",
      "__________________________________________________________________________________________________\n",
      "dropout_2 (Dropout)             (None, 256)          0           flatten_1[0][0]                  \n",
      "__________________________________________________________________________________________________\n",
      "dense_3 (Dense)                 (None, 10)           2570        dropout_2[0][0]                  \n",
      "==================================================================================================\n",
      "Total params: 306,762\n",
      "Trainable params: 306,762\n",
      "Non-trainable params: 0\n",
      "__________________________________________________________________________________________________\n",
      "Epoch 1/20\n",
      "\n",
      "Epoch 00001: val_loss improved from inf to 0.16002, saving model to ./cnn_model/cnn_weights.ckpt\n",
      "WARNING:tensorflow:This model was compiled with a Keras optimizer (<tensorflow.python.keras.optimizers.Adam object at 0x000000001515D550>) but is being saved in TensorFlow format with `save_weights`. The model's weights will be saved, but unlike with TensorFlow optimizers in the TensorFlow format the optimizer's state will not be saved.\n",
      "\n",
      "Consider using a TensorFlow optimizer from `tf.train`.\n",
      " - 14s - loss: 0.6184 - acc: 0.7972 - val_loss: 0.1600 - val_acc: 0.9476\n",
      "Epoch 2/20\n",
      "\n",
      "Epoch 00002: val_loss improved from 0.16002 to 0.07320, saving model to ./cnn_model/cnn_weights.ckpt\n",
      "WARNING:tensorflow:This model was compiled with a Keras optimizer (<tensorflow.python.keras.optimizers.Adam object at 0x000000001515D550>) but is being saved in TensorFlow format with `save_weights`. The model's weights will be saved, but unlike with TensorFlow optimizers in the TensorFlow format the optimizer's state will not be saved.\n",
      "\n",
      "Consider using a TensorFlow optimizer from `tf.train`.\n",
      " - 10s - loss: 0.1833 - acc: 0.9438 - val_loss: 0.0732 - val_acc: 0.9780\n",
      "Epoch 3/20\n",
      "\n",
      "Epoch 00003: val_loss improved from 0.07320 to 0.05556, saving model to ./cnn_model/cnn_weights.ckpt\n",
      "WARNING:tensorflow:This model was compiled with a Keras optimizer (<tensorflow.python.keras.optimizers.Adam object at 0x000000001515D550>) but is being saved in TensorFlow format with `save_weights`. The model's weights will be saved, but unlike with TensorFlow optimizers in the TensorFlow format the optimizer's state will not be saved.\n",
      "\n",
      "Consider using a TensorFlow optimizer from `tf.train`.\n",
      " - 10s - loss: 0.1258 - acc: 0.9619 - val_loss: 0.0556 - val_acc: 0.9840\n",
      "Epoch 4/20\n",
      "\n",
      "Epoch 00004: val_loss improved from 0.05556 to 0.04422, saving model to ./cnn_model/cnn_weights.ckpt\n",
      "WARNING:tensorflow:This model was compiled with a Keras optimizer (<tensorflow.python.keras.optimizers.Adam object at 0x000000001515D550>) but is being saved in TensorFlow format with `save_weights`. The model's weights will be saved, but unlike with TensorFlow optimizers in the TensorFlow format the optimizer's state will not be saved.\n",
      "\n",
      "Consider using a TensorFlow optimizer from `tf.train`.\n",
      " - 10s - loss: 0.0982 - acc: 0.9709 - val_loss: 0.0442 - val_acc: 0.9874\n",
      "Epoch 5/20\n",
      "\n",
      "Epoch 00005: val_loss improved from 0.04422 to 0.03476, saving model to ./cnn_model/cnn_weights.ckpt\n",
      "WARNING:tensorflow:This model was compiled with a Keras optimizer (<tensorflow.python.keras.optimizers.Adam object at 0x000000001515D550>) but is being saved in TensorFlow format with `save_weights`. The model's weights will be saved, but unlike with TensorFlow optimizers in the TensorFlow format the optimizer's state will not be saved.\n",
      "\n",
      "Consider using a TensorFlow optimizer from `tf.train`.\n",
      " - 10s - loss: 0.0849 - acc: 0.9738 - val_loss: 0.0348 - val_acc: 0.9881\n",
      "Epoch 6/20\n",
      "\n",
      "Epoch 00006: val_loss improved from 0.03476 to 0.03086, saving model to ./cnn_model/cnn_weights.ckpt\n",
      "WARNING:tensorflow:This model was compiled with a Keras optimizer (<tensorflow.python.keras.optimizers.Adam object at 0x000000001515D550>) but is being saved in TensorFlow format with `save_weights`. The model's weights will be saved, but unlike with TensorFlow optimizers in the TensorFlow format the optimizer's state will not be saved.\n",
      "\n",
      "Consider using a TensorFlow optimizer from `tf.train`.\n",
      " - 10s - loss: 0.0746 - acc: 0.9774 - val_loss: 0.0309 - val_acc: 0.9900\n",
      "Epoch 7/20\n",
      "\n",
      "Epoch 00007: val_loss improved from 0.03086 to 0.02864, saving model to ./cnn_model/cnn_weights.ckpt\n",
      "WARNING:tensorflow:This model was compiled with a Keras optimizer (<tensorflow.python.keras.optimizers.Adam object at 0x000000001515D550>) but is being saved in TensorFlow format with `save_weights`. The model's weights will be saved, but unlike with TensorFlow optimizers in the TensorFlow format the optimizer's state will not be saved.\n",
      "\n",
      "Consider using a TensorFlow optimizer from `tf.train`.\n",
      " - 10s - loss: 0.0666 - acc: 0.9801 - val_loss: 0.0286 - val_acc: 0.9910\n",
      "Epoch 8/20\n",
      "\n",
      "Epoch 00008: val_loss improved from 0.02864 to 0.02808, saving model to ./cnn_model/cnn_weights.ckpt\n",
      "WARNING:tensorflow:This model was compiled with a Keras optimizer (<tensorflow.python.keras.optimizers.Adam object at 0x000000001515D550>) but is being saved in TensorFlow format with `save_weights`. The model's weights will be saved, but unlike with TensorFlow optimizers in the TensorFlow format the optimizer's state will not be saved.\n",
      "\n",
      "Consider using a TensorFlow optimizer from `tf.train`.\n",
      " - 10s - loss: 0.0568 - acc: 0.9829 - val_loss: 0.0281 - val_acc: 0.9919\n",
      "Epoch 9/20\n",
      "\n",
      "Epoch 00009: val_loss improved from 0.02808 to 0.02478, saving model to ./cnn_model/cnn_weights.ckpt\n",
      "WARNING:tensorflow:This model was compiled with a Keras optimizer (<tensorflow.python.keras.optimizers.Adam object at 0x000000001515D550>) but is being saved in TensorFlow format with `save_weights`. The model's weights will be saved, but unlike with TensorFlow optimizers in the TensorFlow format the optimizer's state will not be saved.\n",
      "\n",
      "Consider using a TensorFlow optimizer from `tf.train`.\n",
      " - 10s - loss: 0.0563 - acc: 0.9832 - val_loss: 0.0248 - val_acc: 0.9924\n",
      "Epoch 10/20\n",
      "\n",
      "Epoch 00010: val_loss improved from 0.02478 to 0.02241, saving model to ./cnn_model/cnn_weights.ckpt\n",
      "WARNING:tensorflow:This model was compiled with a Keras optimizer (<tensorflow.python.keras.optimizers.Adam object at 0x000000001515D550>) but is being saved in TensorFlow format with `save_weights`. The model's weights will be saved, but unlike with TensorFlow optimizers in the TensorFlow format the optimizer's state will not be saved.\n",
      "\n",
      "Consider using a TensorFlow optimizer from `tf.train`.\n",
      " - 10s - loss: 0.0506 - acc: 0.9841 - val_loss: 0.0224 - val_acc: 0.9931\n",
      "Epoch 11/20\n",
      "\n",
      "Epoch 00011: val_loss did not improve from 0.02241\n",
      " - 10s - loss: 0.0471 - acc: 0.9855 - val_loss: 0.0255 - val_acc: 0.9915\n",
      "Epoch 12/20\n",
      "\n",
      "Epoch 00012: val_loss did not improve from 0.02241\n",
      " - 9s - loss: 0.0428 - acc: 0.9872 - val_loss: 0.0225 - val_acc: 0.9926\n",
      "Epoch 13/20\n",
      "\n",
      "Epoch 00013: val_loss improved from 0.02241 to 0.02178, saving model to ./cnn_model/cnn_weights.ckpt\n",
      "WARNING:tensorflow:This model was compiled with a Keras optimizer (<tensorflow.python.keras.optimizers.Adam object at 0x000000001515D550>) but is being saved in TensorFlow format with `save_weights`. The model's weights will be saved, but unlike with TensorFlow optimizers in the TensorFlow format the optimizer's state will not be saved.\n",
      "\n",
      "Consider using a TensorFlow optimizer from `tf.train`.\n",
      " - 10s - loss: 0.0456 - acc: 0.9863 - val_loss: 0.0218 - val_acc: 0.9931\n",
      "Epoch 14/20\n",
      "\n",
      "Epoch 00014: val_loss did not improve from 0.02178\n",
      " - 9s - loss: 0.0426 - acc: 0.9870 - val_loss: 0.0232 - val_acc: 0.9925\n",
      "Epoch 15/20\n",
      "\n",
      "Epoch 00015: val_loss did not improve from 0.02178\n",
      " - 9s - loss: 0.0399 - acc: 0.9876 - val_loss: 0.0219 - val_acc: 0.9925\n",
      "Epoch 16/20\n",
      "\n",
      "Epoch 00016: val_loss did not improve from 0.02178\n",
      " - 10s - loss: 0.0381 - acc: 0.9887 - val_loss: 0.0230 - val_acc: 0.9932\n",
      "Epoch 17/20\n",
      "\n",
      "Epoch 00017: val_loss did not improve from 0.02178\n",
      " - 9s - loss: 0.0372 - acc: 0.9890 - val_loss: 0.0222 - val_acc: 0.9935\n",
      "Epoch 18/20\n",
      "\n",
      "Epoch 00018: val_loss improved from 0.02178 to 0.02046, saving model to ./cnn_model/cnn_weights.ckpt\n",
      "WARNING:tensorflow:This model was compiled with a Keras optimizer (<tensorflow.python.keras.optimizers.Adam object at 0x000000001515D550>) but is being saved in TensorFlow format with `save_weights`. The model's weights will be saved, but unlike with TensorFlow optimizers in the TensorFlow format the optimizer's state will not be saved.\n",
      "\n",
      "Consider using a TensorFlow optimizer from `tf.train`.\n",
      " - 9s - loss: 0.0346 - acc: 0.9897 - val_loss: 0.0205 - val_acc: 0.9937\n",
      "Epoch 19/20\n",
      "\n",
      "Epoch 00019: val_loss did not improve from 0.02046\n",
      " - 10s - loss: 0.0343 - acc: 0.9900 - val_loss: 0.0266 - val_acc: 0.9912\n",
      "Epoch 20/20\n",
      "\n",
      "Epoch 00020: val_loss did not improve from 0.02046\n",
      " - 9s - loss: 0.0358 - acc: 0.9895 - val_loss: 0.0215 - val_acc: 0.9940\n"
     ]
    },
    {
     "data": {
      "image/png": "[encoded data removed]",
      "text/plain": [
       "<Figure size 720x720 with 2 Axes>"
      ]
     },
     "metadata": {
      "needs_background": "light"
     },
     "output_type": "display_data"
    },
    {
     "name": "stdout",
     "output_type": "stream",
     "text": [
      "Wall time: 3min 17s\n"
     ]
    }
   ],
   "source": [
    "%%time\n",
    "\n",
    "# == HYPERPARAMETERS\n",
    "learning_rate = 0.001\n",
    "batch_size = 128\n",
    "n_epoch = 128\n",
    "patience = 16\n",
    "\n",
    "# generators that loops forever\n",
    "train_generator = img_gen_train.flow(x_train_k, y_train_k, batch_size = batch_size, seed=42, shuffle=True)\n",
    "val_generator = img_gen_val.flow(x_val_k, y_val_k, batch_size = len(x_val_k), shuffle=False)\n",
    "\n",
    "cnn_model, cnn_hist, cnn_ckpt_path = train_cnn(model_name = 'cnn', learning_rate = learning_rate, batch_size = batch_size, n_epoch = n_epoch, \n",
    "                                               patience= patience, activation = 'relu', lr_reduction_params={'factor' : 0.5, 'patience' : 8, 'min_delta' : 0}, \n",
    "                                               train_generator = train_generator, val_generator = val_generator)\n"
   ]
  },
  {
   "cell_type": "markdown",
   "metadata": {
    "_uuid": "036ec8cc494fd92d52c07343a9fab1e648fc0d7f"
   },
   "source": [
    "### Predict CNN"
   ]
  },
  {
   "cell_type": "code",
   "execution_count": 22,
   "metadata": {
    "_uuid": "23e4a9fa7c19c92b76b0cf59b5b35240ec53e22c"
   },
   "outputs": [
    {
     "name": "stdout",
     "output_type": "stream",
     "text": [
      "val loss: 0.020462178  val acc: 0.9936905\n",
      "Submission saved in ./cnn.csv\n",
      "Submission saved in ./cnn_aug.csv\n",
      "Wall time: 2min 19s\n"
     ]
    }
   ],
   "source": [
    "%%time\n",
    "\n",
    "cnn_model.load_weights(cnn_ckpt_path)\n",
    "\n",
    "validation_metrics(cnn_model, x_val, y_val, img_gen_val)\n",
    "\n",
    "y_test, y_test_label = predict_test(cnn_model, x_test, img_gen_val)\n",
    "\n",
    "create_submission(y_test_label, 'cnn')\n",
    "\n",
    "y_test_aug, y_test_label_aug = predict_test(cnn_model, x_test, img_gen_train, n_augment=10)\n",
    "\n",
    "create_submission(y_test_label_aug, 'cnn_aug')"
   ]
  },
  {
   "cell_type": "markdown",
   "metadata": {
    "_uuid": "7804323b15d4d0505750a6148560076cb173c510"
   },
   "source": [
    "Submission 1:\n",
    "\n",
    "- conv5 -> maxpool /2 -> conv5 -> maxpool /2 -> dense -> dense10\n",
    "- learning_rate = 0.001\n",
    "- batch_size = 128\n",
    "- n_epoch = 128\n",
    "- patience = 32\n",
    "- validation metrics: [0.019111450761556625, 0.9936904907226562]\n",
    "\n",
    "scored 0.9920 in LB.\n",
    "\n",
    "Submission 2:\n",
    "\n",
    "- inception_block -> conv5 -> maxpool -> conv3 -> maxpool -> dense10\n",
    "- learning_rate = 0.0005\n",
    "- batch_size = 128\n",
    "- n_epoch = 128\n",
    "- patience = 32\n",
    "- validation metrics: [0.011771622113883495, 0.9957143068313599]\n",
    "\n",
    "scored 0.9950 in LB.\n",
    "\n",
    "and Submission 3:\n",
    "- inception_block (/2) -> conv5 -> maxpool -> conv3 -> avgpool -> dropout -> dense10\n",
    "- learning_rate = 0.001 + ReduceLRonPlateau(factor = 0.5, patience = 8) \n",
    "- patience = 16\n",
    "\n",
    "scored 0.9950 in LB.\n",
    "\n",
    "Submission 3 + test_data_augmentation (n_augment = 10)\n",
    "\n",
    "**scored 0.99585 in LB.**\n"
   ]
  },
  {
   "cell_type": "markdown",
   "metadata": {
    "_uuid": "969af28072d85f762384cf21c5950fdd67a1a441"
   },
   "source": [
    "# TensorFlow Data Pipeline\n"
   ]
  },
  {
   "cell_type": "code",
   "execution_count": 59,
   "metadata": {},
   "outputs": [],
   "source": [
    "def plot_batch(imgs):\n",
    "    n_row, n_col = (int(np.ceil(len(imgs)/8)), 8) if len(imgs) > 8 else (1, len(imgs))\n",
    "    \n",
    "    fig, axs = plt.subplots(n_row, n_col, figsize = (2.5*n_col,2.5*n_row))\n",
    "\n",
    "    for i in range(len(imgs)):\n",
    "        z = imgs[i]\n",
    "        if len(z.shape) == 3:\n",
    "            z = z[0]\n",
    "        if i+1 > n_row*n_col:\n",
    "            break\n",
    "        row, col = (i)//n_col, (i)%n_col\n",
    "        if len(axs.shape) == 2:\n",
    "            axs[row,col].imshow(z, cmap='gray', interpolation='none')\n",
    "        else:\n",
    "            axs[col].imshow(z, cmap='gray', interpolation='none')\n",
    "\n",
    "    plt.show()"
   ]
  },
  {
   "cell_type": "code",
   "execution_count": 69,
   "metadata": {
    "_uuid": "2679cdf3272d4faefbcb9b91526aa446ef5f8c43"
   },
   "outputs": [],
   "source": [
    "def _preprocess_img(img, label, angle_range = 12, translation_range = 0.08, zoom_range = 0.08, method = 'bilinear'):\n",
    "    img = img / 255.\n",
    "    \n",
    "    # tf.image transformations need: NHWC    \n",
    "    img = tf.reshape(img, (1, 28, 28, 1))\n",
    "    \n",
    "    # == random rotation\n",
    "    if angle_range is not None:\n",
    "        angle_range_rad = np.deg2rad(angle_range)\n",
    "        random_angle = tf.random.uniform((1,), -angle_range_rad, angle_range_rad)\n",
    "        img = tf.contrib.image.rotate(img, angles = random_angle, interpolation=method.upper())\n",
    "    \n",
    "    # == crop and resize (= translate and zoom)\n",
    "    min_corner = tf.constant([0,0], dtype=tf.float32, shape=[2])\n",
    "    \n",
    "    if translation_range is not None:\n",
    "        min_corner = min_corner + tf.random_uniform(shape = (2,) , minval=-translation_range, maxval=translation_range)\n",
    "    max_corner = min_corner + [1,1]\n",
    "    \n",
    "    if zoom_range is not None:\n",
    "        random_zoom = tf.random.uniform((1,), minval=1-zoom_range, maxval=1+zoom_range)\n",
    "        center = (min_corner + max_corner)/2.\n",
    "        min_corner_new = center + random_zoom * (min_corner - max_corner)/2.\n",
    "        max_corner_new = center + random_zoom * (max_corner - min_corner)/2.\n",
    "        min_corner = min_corner_new\n",
    "        max_corner = max_corner_new\n",
    "    \n",
    "    box = tf.concat([min_corner, max_corner], axis = 0)\n",
    "    boxes = tf.reshape(box, (1, 4))    \n",
    "    img = tf.image.crop_and_resize(img, boxes, [0], crop_size = (28,28), method=method, extrapolation_value=0, name=None)\n",
    "    \n",
    "    # changing to CHW\n",
    "    img = tf.reshape(img, (1, 28, 28))\n",
    "    \n",
    "    # label\n",
    "    y = tf.one_hot(label, 10)\n",
    "    return img , y\n",
    "\n",
    "def build_input_dataset(x, y, batch_size = 32, mode = 'train', preprocess_img_params = dict()):\n",
    "    ds = tf.data.Dataset.from_tensor_slices((x, y))    \n",
    "    map_func = lambda img,label : _preprocess_img(img, label, **preprocess_img_params)\n",
    "    \n",
    "    if mode == 'train':\n",
    "        # ideally shuffle´s buffer_size should be n_samples but in this case data has been already shuffled\n",
    "        ds = ds.apply(tf.data.experimental.shuffle_and_repeat(buffer_size=1024))\n",
    "        ds = ds.apply(tf.data.experimental.map_and_batch(map_func, batch_size, num_parallel_batches=None, drop_remainder=False, num_parallel_calls=None))\n",
    "    else:\n",
    "        ds = ds.repeat()\n",
    "        ds = ds.apply(tf.data.experimental.map_and_batch(map_func, len(x), num_parallel_batches=None, drop_remainder=False, num_parallel_calls=None))\n",
    "        \n",
    "    ds = ds.prefetch(1)\n",
    "    return ds"
   ]
  },
  {
   "cell_type": "code",
   "execution_count": 70,
   "metadata": {
    "_uuid": "1db18e422e50a12d21c9a3a794c57d78ce551a8d"
   },
   "outputs": [
    {
     "name": "stdout",
     "output_type": "stream",
     "text": [
      "original\n"
     ]
    },
    {
     "data": {
      "image/png": "[encoded data removed]",
      "text/plain": [
       "<Figure size 1440x180 with 8 Axes>"
      ]
     },
     "metadata": {
      "needs_background": "light"
     },
     "output_type": "display_data"
    },
    {
     "name": "stdout",
     "output_type": "stream",
     "text": [
      "==================== batch 1 ====================\n",
      "imgs.shape: (3, 1, 28, 28) labels.shape: (3, 10)\n"
     ]
    },
    {
     "data": {
      "image/png": "[encoded data removed]",
      "text/plain": [
       "<Figure size 540x180 with 3 Axes>"
      ]
     },
     "metadata": {
      "needs_background": "light"
     },
     "output_type": "display_data"
    },
    {
     "name": "stdout",
     "output_type": "stream",
     "text": [
      "==================== batch 2 ====================\n",
      "imgs.shape: (3, 1, 28, 28) labels.shape: (3, 10)\n"
     ]
    },
    {
     "data": {
      "image/png": "[encoded data removed]",
      "text/plain": [
       "<Figure size 540x180 with 3 Axes>"
      ]
     },
     "metadata": {
      "needs_background": "light"
     },
     "output_type": "display_data"
    },
    {
     "name": "stdout",
     "output_type": "stream",
     "text": [
      "==================== batch 3 ====================\n",
      "imgs.shape: (3, 1, 28, 28) labels.shape: (3, 10)\n"
     ]
    },
    {
     "data": {
      "image/png": "[encoded data removed]",
      "text/plain": [
       "<Figure size 540x180 with 3 Axes>"
      ]
     },
     "metadata": {
      "needs_background": "light"
     },
     "output_type": "display_data"
    },
    {
     "name": "stdout",
     "output_type": "stream",
     "text": [
      "==================== batch 4 ====================\n",
      "imgs.shape: (3, 1, 28, 28) labels.shape: (3, 10)\n"
     ]
    },
    {
     "data": {
      "image/png": "[encoded data removed]",
      "text/plain": [
       "<Figure size 540x180 with 3 Axes>"
      ]
     },
     "metadata": {
      "needs_background": "light"
     },
     "output_type": "display_data"
    },
    {
     "name": "stdout",
     "output_type": "stream",
     "text": [
      "Wall time: 23.7 s\n"
     ]
    }
   ],
   "source": [
    "%%time\n",
    "\n",
    "idx_examples = np.random.randint(0, len(x_train), size=8)\n",
    "print('original')\n",
    "x_examples = x_train[idx_examples]\n",
    "y_examples = y[idx_examples]\n",
    "plot_batch(x_examples)\n",
    "\n",
    "ds = build_input_dataset(x_examples, y_examples, batch_size=3, mode='train', preprocess_img_params={'method' : 'nearest'})\n",
    "it = ds.make_one_shot_iterator()\n",
    "elem = it.get_next()\n",
    "\n",
    "with tf.Session() as sess:\n",
    "    for j in range(4):\n",
    "        print('='*20, 'batch',j+1, '='*20)\n",
    "        imgs, labels = sess.run(elem)\n",
    "        print('imgs.shape:', imgs.shape, 'labels.shape:', labels.shape)\n",
    "        plot_batch(imgs)\n",
    "\n",
    "    \n"
   ]
  },
  {
   "cell_type": "code",
   "execution_count": null,
   "metadata": {
    "_uuid": "e87ae09ca9741990428c88632f5b86b4d4e709ea",
    "scrolled": false
   },
   "outputs": [
    {
     "name": "stdout",
     "output_type": "stream",
     "text": [
      "Testing method bilinear\n",
      "__________________________________________________________________________________________________\n",
      "Layer (type)                    Output Shape         Param #     Connected to                     \n",
      "==================================================================================================\n",
      "input_10 (InputLayer)           (None, 1, 28, 28)    0                                            \n",
      "__________________________________________________________________________________________________\n",
      "conv2d_45 (Conv2D)              (None, 32, 28, 28)   64          input_10[0][0]                   \n",
      "__________________________________________________________________________________________________\n",
      "conv2d_46 (Conv2D)              (None, 32, 28, 28)   320         input_10[0][0]                   \n",
      "__________________________________________________________________________________________________\n",
      "conv2d_47 (Conv2D)              (None, 32, 28, 28)   832         input_10[0][0]                   \n",
      "__________________________________________________________________________________________________\n",
      "max_pooling2d_36 (MaxPooling2D) (None, 32, 14, 14)   0           conv2d_45[0][0]                  \n",
      "__________________________________________________________________________________________________\n",
      "max_pooling2d_37 (MaxPooling2D) (None, 32, 14, 14)   0           conv2d_46[0][0]                  \n",
      "__________________________________________________________________________________________________\n",
      "max_pooling2d_38 (MaxPooling2D) (None, 32, 14, 14)   0           conv2d_47[0][0]                  \n",
      "__________________________________________________________________________________________________\n",
      "average_pooling2d_9 (AveragePoo (None, 1, 14, 14)    0           input_10[0][0]                   \n",
      "__________________________________________________________________________________________________\n",
      "concatenate_9 (Concatenate)     (None, 97, 14, 14)   0           max_pooling2d_36[0][0]           \n",
      "                                                                 max_pooling2d_37[0][0]           \n",
      "                                                                 max_pooling2d_38[0][0]           \n",
      "                                                                 average_pooling2d_9[0][0]        \n",
      "__________________________________________________________________________________________________\n",
      "conv2d_48 (Conv2D)              (None, 64, 10, 10)   155264      concatenate_9[0][0]              \n",
      "__________________________________________________________________________________________________\n",
      "max_pooling2d_39 (MaxPooling2D) (None, 64, 5, 5)     0           conv2d_48[0][0]                  \n",
      "__________________________________________________________________________________________________\n",
      "conv2d_49 (Conv2D)              (None, 256, 3, 3)    147712      max_pooling2d_39[0][0]           \n",
      "__________________________________________________________________________________________________\n",
      "global_average_pooling2d_9 (Glo (None, 256)          0           conv2d_49[0][0]                  \n",
      "__________________________________________________________________________________________________\n",
      "flatten_10 (Flatten)            (None, 256)          0           global_average_pooling2d_9[0][0] \n",
      "__________________________________________________________________________________________________\n",
      "dropout_11 (Dropout)            (None, 256)          0           flatten_10[0][0]                 \n",
      "__________________________________________________________________________________________________\n",
      "dense_12 (Dense)                (None, 10)           2570        dropout_11[0][0]                 \n",
      "==================================================================================================\n",
      "Total params: 306,762\n",
      "Trainable params: 306,762\n",
      "Non-trainable params: 0\n",
      "__________________________________________________________________________________________________\n",
      "Epoch 1/3\n"
     ]
    }
   ],
   "source": [
    "%%time\n",
    "\n",
    "# == HYPERPARAMETERS\n",
    "learning_rate = 0.001\n",
    "batch_size = 128\n",
    "n_epoch = 3\n",
    "patience = 16\n",
    "\n",
    "for method in ['bilinear', 'nearest']:\n",
    "    print('Testing method', method)\n",
    "    # generators that loops forever\n",
    "    train_ds = build_input_dataset(x_train, y_train, batch_size=batch_size, mode='train', preprocess_img_params={'method' : method})\n",
    "    steps_per_epoch = len(x_train) // batch_size\n",
    "\n",
    "    val_ds = build_input_dataset(x_val, y_val, mode='val')\n",
    "\n",
    "    cnn2_model, _, cnn2_ckpt_path = train_cnn(model_name = 'cnn2_{}'.format(method), learning_rate = learning_rate, n_epoch = n_epoch, steps_per_epoch=steps_per_epoch,\n",
    "                                                   patience = patience, activation = 'relu', lr_reduction_params={'factor' : 0.5, 'patience' : 8, 'min_delta' : 0}, \n",
    "                                                   train_ds = train_ds, val_ds = val_ds)\n"
   ]
  }
 ],
 "metadata": {
  "kernelspec": {
   "display_name": "Python 3",
   "language": "python",
   "name": "python3"
  },
  "language_info": {
   "codemirror_mode": {
    "name": "ipython",
    "version": 3
   },
   "file_extension": ".py",
   "mimetype": "text/x-python",
   "name": "python",
   "nbconvert_exporter": "python",
   "pygments_lexer": "ipython3",
   "version": "3.6.6"
  }
 },
 "nbformat": 4,
 "nbformat_minor": 2
}
